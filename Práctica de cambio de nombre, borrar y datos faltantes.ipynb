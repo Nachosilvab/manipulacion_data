{
 "cells": [
  {
   "cell_type": "code",
   "execution_count": 1,
   "id": "2c2303b5",
   "metadata": {},
   "outputs": [],
   "source": [
    "import pandas as pd"
   ]
  },
  {
   "cell_type": "code",
   "execution_count": 2,
   "id": "31b694fd",
   "metadata": {},
   "outputs": [],
   "source": [
    "bike_df = pd.read_excel('RailsToTrails_National_Count_Data_week.xlsx')"
   ]
  },
  {
   "cell_type": "code",
   "execution_count": 3,
   "id": "1c9050d5",
   "metadata": {},
   "outputs": [],
   "source": [
    "bike_df = bike_df.drop(columns={\"Unnamed: 7\",\"Unnamed: 8\",\"Unnamed: 9\"})"
   ]
  },
  {
   "cell_type": "code",
   "execution_count": 4,
   "id": "5b94dd38",
   "metadata": {},
   "outputs": [],
   "source": [
    "bike_df = bike_df.rename(columns = {'Unnamed: 6':'percent_change'})"
   ]
  },
  {
   "cell_type": "code",
   "execution_count": 5,
   "id": "fde2a615",
   "metadata": {},
   "outputs": [
    {
     "data": {
      "text/plain": [
       "Timeframe                      0\n",
       "Week of                        0\n",
       " 2019 counts (31 counters)     0\n",
       " 2020 counts (31 counters)     0\n",
       "2021 Counts                   52\n",
       "Change 2019-2020               0\n",
       "percent_change                 0\n",
       "dtype: int64"
      ]
     },
     "execution_count": 5,
     "metadata": {},
     "output_type": "execute_result"
    }
   ],
   "source": [
    "bike_df.isna().sum()"
   ]
  },
  {
   "cell_type": "markdown",
   "id": "8f7c2ddf",
   "metadata": {},
   "source": [
    "#### hay 52 datos faltantes en la columna 2021 counts"
   ]
  },
  {
   "cell_type": "code",
   "execution_count": 6,
   "id": "7e15a6a0",
   "metadata": {},
   "outputs": [],
   "source": [
    "bike_df['2021 Counts'] = bike_df['2021 Counts'].fillna(0)"
   ]
  },
  {
   "cell_type": "code",
   "execution_count": 7,
   "id": "fd6b0501",
   "metadata": {},
   "outputs": [
    {
     "data": {
      "text/plain": [
       "Index(['Timeframe', 'Week of', ' 2019 counts (31 counters)',\n",
       "       ' 2020 counts (31 counters)', '2021 Counts', 'Change 2019-2020',\n",
       "       'percent_change'],\n",
       "      dtype='object')"
      ]
     },
     "execution_count": 7,
     "metadata": {},
     "output_type": "execute_result"
    }
   ],
   "source": [
    "bike_df.columns"
   ]
  },
  {
   "cell_type": "code",
   "execution_count": 11,
   "id": "a7f74bdf",
   "metadata": {},
   "outputs": [
    {
     "data": {
      "text/plain": [
       "[' 2019 counts (31 counters)', ' 2020 counts (31 counters)']"
      ]
     },
     "execution_count": 11,
     "metadata": {},
     "output_type": "execute_result"
    }
   ],
   "source": [
    "[x for x in bike_df.columns if x.endswith(' ') or x.startswith(' ')]"
   ]
  },
  {
   "cell_type": "code",
   "execution_count": 12,
   "id": "d46cfbe4",
   "metadata": {},
   "outputs": [],
   "source": [
    "bike_df.columns = bike_df.columns.str.lstrip()"
   ]
  },
  {
   "cell_type": "code",
   "execution_count": 16,
   "id": "42a7cf0f",
   "metadata": {
    "scrolled": true
   },
   "outputs": [
    {
     "data": {
      "text/plain": [
       "[]"
      ]
     },
     "execution_count": 16,
     "metadata": {},
     "output_type": "execute_result"
    }
   ],
   "source": [
    "[x for x in bike_df.columns if x.endswith(' ') or x.startswith(' ')]\n"
   ]
  },
  {
   "cell_type": "code",
   "execution_count": 17,
   "id": "5ff701af",
   "metadata": {},
   "outputs": [
    {
     "data": {
      "text/plain": [
       "Index(['Timeframe', 'Week of', '2019 counts (31 counters)',\n",
       "       '2020 counts (31 counters)', '2021 Counts', 'Change 2019-2020',\n",
       "       'percent_change'],\n",
       "      dtype='object')"
      ]
     },
     "execution_count": 17,
     "metadata": {},
     "output_type": "execute_result"
    }
   ],
   "source": [
    "bike_df.columns"
   ]
  },
  {
   "cell_type": "code",
   "execution_count": 18,
   "id": "cc012fe0",
   "metadata": {},
   "outputs": [],
   "source": [
    "bike_df = bike_df.rename(columns = {'2019 counts (31 counters)':'conteos_2019'})"
   ]
  },
  {
   "cell_type": "code",
   "execution_count": null,
   "id": "53b2d2db",
   "metadata": {},
   "outputs": [],
   "source": []
  }
 ],
 "metadata": {
  "kernelspec": {
   "display_name": "Python 3 (ipykernel)",
   "language": "python",
   "name": "python3"
  },
  "language_info": {
   "codemirror_mode": {
    "name": "ipython",
    "version": 3
   },
   "file_extension": ".py",
   "mimetype": "text/x-python",
   "name": "python",
   "nbconvert_exporter": "python",
   "pygments_lexer": "ipython3",
   "version": "3.9.7"
  }
 },
 "nbformat": 4,
 "nbformat_minor": 5
}
